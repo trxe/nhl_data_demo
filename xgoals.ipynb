{
 "cells": [
  {
   "cell_type": "markdown",
   "metadata": {},
   "source": [
    "# Load Data"
   ]
  },
  {
   "cell_type": "code",
   "execution_count": 6,
   "metadata": {},
   "outputs": [],
   "source": [
    "from pathlib import Path\n",
    "import polars as pl\n",
    "import datetime as dt\n",
    "from tools.database import LoadFromLocal\n",
    "\n",
    "DATA_ROOT = './data'\n",
    "\n",
    "def csv_to_df(filename: str, dtype: dict = None, pdates: bool = True, sep: str = ',') -> pl.LazyFrame:\n",
    "    return pl.read_csv(Path(DATA_ROOT, filename), \n",
    "                       try_parse_dates=pdates, \n",
    "                       truncate_ragged_lines=True, \n",
    "                       infer_schema_length=None, \n",
    "                       schema_overrides=dtype,\n",
    "                       separator=sep).lazy()"
   ]
  },
  {
   "cell_type": "code",
   "execution_count": 7,
   "metadata": {},
   "outputs": [],
   "source": [
    "TEAMS = csv_to_df('teams.csv', sep=';')\n",
    "SHIFTS = csv_to_df('shifts.csv')\n",
    "ROSTERS = csv_to_df('rosters.csv')\n",
    "PLAYS = csv_to_df('plays.csv')\n",
    "PLAY_DETAILS = csv_to_df('play_details.csv')\n",
    "GAMES = csv_to_df('games.csv', pdates=True)"
   ]
  },
  {
   "cell_type": "markdown",
   "metadata": {},
   "source": [
    "# Data tables"
   ]
  },
  {
   "cell_type": "code",
   "execution_count": 16,
   "metadata": {},
   "outputs": [
    {
     "data": {
      "text/plain": [
       "((32, 9),\n",
       " shape: (1, 9)\n",
       " ┌────────┬───────┬────────┬───────────┬───┬────────────────────┬─────────┬─────────┬───────────────┐\n",
       " │ teamid ┆ name  ┆ abbrev ┆ placename ┆ … ┆ darklogo           ┆ color1  ┆ color2  ┆ fullname      │\n",
       " │ ---    ┆ ---   ┆ ---    ┆ ---       ┆   ┆ ---                ┆ ---     ┆ ---     ┆ ---           │\n",
       " │ i64    ┆ str   ┆ str    ┆ str       ┆   ┆ str                ┆ str     ┆ str     ┆ str           │\n",
       " ╞════════╪═══════╪════════╪═══════════╪═══╪════════════════════╪═════════╪═════════╪═══════════════╡\n",
       " │ 24     ┆ Ducks ┆ ANA    ┆ Anaheim   ┆ … ┆ https://assets.nhl ┆ #00004E ┆ #FFB81C ┆ Anaheim Ducks │\n",
       " │        ┆       ┆        ┆           ┆   ┆ e.com/logos/…      ┆         ┆         ┆               │\n",
       " └────────┴───────┴────────┴───────────┴───┴────────────────────┴─────────┴─────────┴───────────────┘)"
      ]
     },
     "execution_count": 16,
     "metadata": {},
     "output_type": "execute_result"
    }
   ],
   "source": [
    "TEAMS.collect().shape, TEAMS.head(1).collect()"
   ]
  },
  {
   "cell_type": "code",
   "execution_count": 17,
   "metadata": {},
   "outputs": [
    {
     "data": {
      "text/plain": [
       "((1851750, 13),\n",
       " shape: (1, 13)\n",
       " ┌──────────┬────────────┬──────────┬──────────┬───┬────────────┬──────────┬────────┬──────────┐\n",
       " │ id       ┆ detailCode ┆ duration ┆ playerId ┆ … ┆ gameId     ┆ hexValue ┆ teamId ┆ typeCode │\n",
       " │ ---      ┆ ---        ┆ ---      ┆ ---      ┆   ┆ ---        ┆ ---      ┆ ---    ┆ ---      │\n",
       " │ i64      ┆ i64        ┆ str      ┆ i64      ┆   ┆ i64        ┆ str      ┆ i64    ┆ i64      │\n",
       " ╞══════════╪════════════╪══════════╪══════════╪═══╪════════════╪══════════╪════════╪══════════╡\n",
       " │ 12438645 ┆ 0          ┆ 01:01    ┆ 8471699  ┆ … ┆ 2022020365 ┆ #6F263D  ┆ 21     ┆ 517      │\n",
       " └──────────┴────────────┴──────────┴──────────┴───┴────────────┴──────────┴────────┴──────────┘)"
      ]
     },
     "execution_count": 17,
     "metadata": {},
     "output_type": "execute_result"
    }
   ],
   "source": [
    "SHIFTS.collect().shape, SHIFTS.head(1).collect()"
   ]
  },
  {
   "cell_type": "code",
   "execution_count": 18,
   "metadata": {},
   "outputs": [
    {
     "data": {
      "text/plain": [
       "((767648, 10),\n",
       " shape: (1, 10)\n",
       " ┌────────────┬─────────┬────────┬────────────┬───┬──────────┬─────────────┬───────────┬────────────┐\n",
       " │ gameId     ┆ eventId ┆ period ┆ periodType ┆ … ┆ typeCode ┆ typeDescKey ┆ sortOrder ┆ homeTeamDe │\n",
       " │ ---        ┆ ---     ┆ ---    ┆ ---        ┆   ┆ ---      ┆ ---         ┆ ---       ┆ fendingSid │\n",
       " │ i64        ┆ i64     ┆ i64    ┆ str        ┆   ┆ i64      ┆ str         ┆ i64       ┆ e          │\n",
       " │            ┆         ┆        ┆            ┆   ┆          ┆             ┆           ┆ ---        │\n",
       " │            ┆         ┆        ┆            ┆   ┆          ┆             ┆           ┆ str        │\n",
       " ╞════════════╪═════════╪════════╪════════════╪═══╪══════════╪═════════════╪═══════════╪════════════╡\n",
       " │ 2022020365 ┆ 51      ┆ 1      ┆ REG        ┆ … ┆ 520      ┆ period-star ┆ 8         ┆ left       │\n",
       " │            ┆         ┆        ┆            ┆   ┆          ┆ t           ┆           ┆            │\n",
       " └────────────┴─────────┴────────┴────────────┴───┴──────────┴─────────────┴───────────┴────────────┘)"
      ]
     },
     "execution_count": 18,
     "metadata": {},
     "output_type": "execute_result"
    }
   ],
   "source": [
    "PLAYS.collect().shape, PLAYS.head(1).collect()"
   ]
  },
  {
   "cell_type": "code",
   "execution_count": 19,
   "metadata": {},
   "outputs": [
    {
     "data": {
      "text/plain": [
       "((767648, 37),\n",
       " shape: (1, 37)\n",
       " ┌────────────┬─────────┬──────────────┬─────────────┬───┬─────────────┬────────┬────────┬──────────┐\n",
       " │ gameId     ┆ eventId ┆ assist1Playe ┆ assist1Play ┆ … ┆ winningPlay ┆ xCoord ┆ yCoord ┆ zoneCode │\n",
       " │ ---        ┆ ---     ┆ rId          ┆ erTotal     ┆   ┆ erId        ┆ ---    ┆ ---    ┆ ---      │\n",
       " │ i64        ┆ i64     ┆ ---          ┆ ---         ┆   ┆ ---         ┆ i64    ┆ i64    ┆ str      │\n",
       " │            ┆         ┆ i64          ┆ i64         ┆   ┆ i64         ┆        ┆        ┆          │\n",
       " ╞════════════╪═════════╪══════════════╪═════════════╪═══╪═════════════╪════════╪════════╪══════════╡\n",
       " │ 2022020365 ┆ 51      ┆ null         ┆ null        ┆ … ┆ null        ┆ null   ┆ null   ┆ null     │\n",
       " └────────────┴─────────┴──────────────┴─────────────┴───┴─────────────┴────────┴────────┴──────────┘)"
      ]
     },
     "execution_count": 19,
     "metadata": {},
     "output_type": "execute_result"
    }
   ],
   "source": [
    "PLAY_DETAILS.collect().shape, PLAY_DETAILS.head(1).collect()"
   ]
  },
  {
   "cell_type": "code",
   "execution_count": 20,
   "metadata": {},
   "outputs": [
    {
     "data": {
      "text/plain": [
       "((97052, 6),\n",
       " shape: (1, 6)\n",
       " ┌────────┬──────────┬───────────────┬──────────────┬─────────────────────────────────┬────────────┐\n",
       " │ teamId ┆ playerId ┆ sweaterNumber ┆ positionCode ┆ headshot                        ┆ gameId     │\n",
       " │ ---    ┆ ---      ┆ ---           ┆ ---          ┆ ---                             ┆ ---        │\n",
       " │ i64    ┆ i64      ┆ i64           ┆ str          ┆ str                             ┆ i64        │\n",
       " ╞════════╪══════════╪═══════════════╪══════════════╪═════════════════════════════════╪════════════╡\n",
       " │ 7      ┆ 8467950  ┆ 41            ┆ G            ┆ https://assets.nhle.com/mugs/n… ┆ 2022020365 │\n",
       " └────────┴──────────┴───────────────┴──────────────┴─────────────────────────────────┴────────────┘)"
      ]
     },
     "execution_count": 20,
     "metadata": {},
     "output_type": "execute_result"
    }
   ],
   "source": [
    "ROSTERS.collect().shape, ROSTERS.head(1).collect()"
   ]
  },
  {
   "cell_type": "code",
   "execution_count": 21,
   "metadata": {},
   "outputs": [
    {
     "data": {
      "text/plain": [
       "((2427, 7),\n",
       " shape: (1, 7)\n",
       " ┌────────────┬──────────┬──────────┬──────────────┬──────────────────┬────────────┬────────────┐\n",
       " │ id         ┆ season   ┆ gameType ┆ startTimeUTC ┆ venueTimezone    ┆ awayTeamId ┆ homeTeamId │\n",
       " │ ---        ┆ ---      ┆ ---      ┆ ---          ┆ ---              ┆ ---        ┆ ---        │\n",
       " │ i64        ┆ i64      ┆ i64      ┆ datetime[μs, ┆ str              ┆ i64        ┆ i64        │\n",
       " │            ┆          ┆          ┆ UTC]         ┆                  ┆            ┆            │\n",
       " ╞════════════╪══════════╪══════════╪══════════════╪══════════════════╪════════════╪════════════╡\n",
       " │ 2022020365 ┆ 20222023 ┆ 2        ┆ 2022-12-02   ┆ America/New_York ┆ 21         ┆ 7          │\n",
       " │            ┆          ┆          ┆ 00:00:00 UTC ┆                  ┆            ┆            │\n",
       " └────────────┴──────────┴──────────┴──────────────┴──────────────────┴────────────┴────────────┘)"
      ]
     },
     "execution_count": 21,
     "metadata": {},
     "output_type": "execute_result"
    }
   ],
   "source": [
    "GAMES.collect().shape, GAMES.head(1).collect()"
   ]
  },
  {
   "cell_type": "code",
   "execution_count": 22,
   "metadata": {},
   "outputs": [
    {
     "data": {
      "text/html": [
       "<div><style>\n",
       ".dataframe > thead > tr,\n",
       ".dataframe > tbody > tr {\n",
       "  text-align: right;\n",
       "  white-space: pre-wrap;\n",
       "}\n",
       "</style>\n",
       "<small>shape: (1, 45)</small><table border=\"1\" class=\"dataframe\"><thead><tr><th>gameId</th><th>eventId</th><th>period</th><th>periodType</th><th>timeInPeriod</th><th>situationCode</th><th>typeCode</th><th>typeDescKey</th><th>sortOrder</th><th>homeTeamDefendingSide</th><th>assist1PlayerId</th><th>assist1PlayerTotal</th><th>assist2PlayerId</th><th>assist2PlayerTotal</th><th>awaySOG</th><th>awayScore</th><th>blockingPlayerId</th><th>committedByPlayerId</th><th>descKey</th><th>discreteClip</th><th>drawnByPlayerId</th><th>duration</th><th>eventOwnerTeamId</th><th>goalieInNetId</th><th>highlightClip</th><th>highlightClipFr</th><th>highlightClipSharingUrl</th><th>highlightClipSharingUrlFr</th><th>hitteePlayerId</th><th>hittingPlayerId</th><th>homeSOG</th><th>homeScore</th><th>losingPlayerId</th><th>playerId</th><th>reason</th><th>scoringPlayerId</th><th>scoringPlayerTotal</th><th>secondaryReason</th><th>shootingPlayerId</th><th>shotType</th><th>typeCode_right</th><th>winningPlayerId</th><th>xCoord</th><th>yCoord</th><th>zoneCode</th></tr><tr><td>i64</td><td>i64</td><td>i64</td><td>str</td><td>str</td><td>i64</td><td>i64</td><td>str</td><td>i64</td><td>str</td><td>i64</td><td>i64</td><td>i64</td><td>i64</td><td>i64</td><td>i64</td><td>i64</td><td>i64</td><td>str</td><td>i64</td><td>i64</td><td>i64</td><td>i64</td><td>i64</td><td>i64</td><td>i64</td><td>str</td><td>str</td><td>i64</td><td>i64</td><td>i64</td><td>i64</td><td>i64</td><td>i64</td><td>str</td><td>i64</td><td>i64</td><td>str</td><td>i64</td><td>str</td><td>str</td><td>i64</td><td>i64</td><td>i64</td><td>str</td></tr></thead><tbody><tr><td>2022020365</td><td>51</td><td>1</td><td>&quot;REG&quot;</td><td>&quot;00:00&quot;</td><td>1551</td><td>520</td><td>&quot;period-start&quot;</td><td>8</td><td>&quot;left&quot;</td><td>null</td><td>null</td><td>null</td><td>null</td><td>null</td><td>null</td><td>null</td><td>null</td><td>null</td><td>null</td><td>null</td><td>null</td><td>null</td><td>null</td><td>null</td><td>null</td><td>null</td><td>null</td><td>null</td><td>null</td><td>null</td><td>null</td><td>null</td><td>null</td><td>null</td><td>null</td><td>null</td><td>null</td><td>null</td><td>null</td><td>null</td><td>null</td><td>null</td><td>null</td><td>null</td></tr></tbody></table></div>"
      ],
      "text/plain": [
       "shape: (1, 45)\n",
       "┌────────────┬─────────┬────────┬────────────┬───┬─────────────────┬────────┬────────┬──────────┐\n",
       "│ gameId     ┆ eventId ┆ period ┆ periodType ┆ … ┆ winningPlayerId ┆ xCoord ┆ yCoord ┆ zoneCode │\n",
       "│ ---        ┆ ---     ┆ ---    ┆ ---        ┆   ┆ ---             ┆ ---    ┆ ---    ┆ ---      │\n",
       "│ i64        ┆ i64     ┆ i64    ┆ str        ┆   ┆ i64             ┆ i64    ┆ i64    ┆ str      │\n",
       "╞════════════╪═════════╪════════╪════════════╪═══╪═════════════════╪════════╪════════╪══════════╡\n",
       "│ 2022020365 ┆ 51      ┆ 1      ┆ REG        ┆ … ┆ null            ┆ null   ┆ null   ┆ null     │\n",
       "└────────────┴─────────┴────────┴────────────┴───┴─────────────────┴────────┴────────┴──────────┘"
      ]
     },
     "execution_count": 22,
     "metadata": {},
     "output_type": "execute_result"
    }
   ],
   "source": [
    "COMBINED_PLAYS = PLAYS.join(PLAY_DETAILS, on=['gameId', 'eventId'])\n",
    "COMBINED_PLAYS.head(1).collect()"
   ]
  },
  {
   "cell_type": "markdown",
   "metadata": {},
   "source": [
    "### Investigating Net location mapping\n",
    "\n",
    "Seems like the `homeTeamDefendingSide` isn't very reliable as an indicator of location mapping, and \n",
    "possibly zodeCode too"
   ]
  },
  {
   "cell_type": "code",
   "execution_count": null,
   "metadata": {},
   "outputs": [
    {
     "data": {
      "text/html": [
       "<div><style>\n",
       ".dataframe > thead > tr,\n",
       ".dataframe > tbody > tr {\n",
       "  text-align: right;\n",
       "  white-space: pre-wrap;\n",
       "}\n",
       "</style>\n",
       "<small>shape: (2, 2)</small><table border=\"1\" class=\"dataframe\"><thead><tr><th>homeTeamDefendingSide</th><th>count</th></tr><tr><td>str</td><td>u32</td></tr></thead><tbody><tr><td>&quot;right&quot;</td><td>392658</td></tr><tr><td>&quot;left&quot;</td><td>374990</td></tr></tbody></table></div>"
      ],
      "text/plain": [
       "shape: (2, 2)\n",
       "┌───────────────────────┬────────┐\n",
       "│ homeTeamDefendingSide ┆ count  │\n",
       "│ ---                   ┆ ---    │\n",
       "│ str                   ┆ u32    │\n",
       "╞═══════════════════════╪════════╡\n",
       "│ right                 ┆ 392658 │\n",
       "│ left                  ┆ 374990 │\n",
       "└───────────────────────┴────────┘"
      ]
     },
     "execution_count": 26,
     "metadata": {},
     "output_type": "execute_result"
    }
   ],
   "source": [
    "COMBINED_PLAYS.collect()('homeTeamDefendingSide').value_counts()"
   ]
  },
  {
   "cell_type": "code",
   "execution_count": 56,
   "metadata": {},
   "outputs": [
    {
     "data": {
      "text/html": [
       "<div><style>\n",
       ".dataframe > thead > tr,\n",
       ".dataframe > tbody > tr {\n",
       "  text-align: right;\n",
       "  white-space: pre-wrap;\n",
       "}\n",
       "</style>\n",
       "<small>shape: (338_925, 6)</small><table border=\"1\" class=\"dataframe\"><thead><tr><th>xCoord</th><th>isHomeEvent</th><th>netX</th><th>typeDescKey</th><th>zoneCode</th><th>isConsistent</th></tr><tr><td>i64</td><td>bool</td><td>i32</td><td>str</td><td>str</td><td>bool</td></tr></thead><tbody><tr><td>0</td><td>true</td><td>100</td><td>&quot;faceoff&quot;</td><td>&quot;N&quot;</td><td>true</td></tr><tr><td>47</td><td>true</td><td>100</td><td>&quot;shot-on-goal&quot;</td><td>&quot;O&quot;</td><td>true</td></tr><tr><td>74</td><td>true</td><td>100</td><td>&quot;blocked-shot&quot;</td><td>&quot;D&quot;</td><td>true</td></tr><tr><td>76</td><td>true</td><td>100</td><td>&quot;missed-shot&quot;</td><td>&quot;O&quot;</td><td>true</td></tr><tr><td>98</td><td>false</td><td>-100</td><td>&quot;hit&quot;</td><td>&quot;D&quot;</td><td>true</td></tr><tr><td>&hellip;</td><td>&hellip;</td><td>&hellip;</td><td>&hellip;</td><td>&hellip;</td><td>&hellip;</td></tr><tr><td>2</td><td>true</td><td>100</td><td>&quot;shot-on-goal&quot;</td><td>&quot;N&quot;</td><td>true</td></tr><tr><td>5</td><td>false</td><td>-100</td><td>&quot;giveaway&quot;</td><td>&quot;N&quot;</td><td>true</td></tr><tr><td>20</td><td>true</td><td>100</td><td>&quot;faceoff&quot;</td><td>&quot;N&quot;</td><td>true</td></tr><tr><td>0</td><td>false</td><td>-100</td><td>&quot;faceoff&quot;</td><td>&quot;N&quot;</td><td>true</td></tr><tr><td>0</td><td>false</td><td>-100</td><td>&quot;faceoff&quot;</td><td>&quot;N&quot;</td><td>true</td></tr></tbody></table></div>"
      ],
      "text/plain": [
       "shape: (338_925, 6)\n",
       "┌────────┬─────────────┬──────┬──────────────┬──────────┬──────────────┐\n",
       "│ xCoord ┆ isHomeEvent ┆ netX ┆ typeDescKey  ┆ zoneCode ┆ isConsistent │\n",
       "│ ---    ┆ ---         ┆ ---  ┆ ---          ┆ ---      ┆ ---          │\n",
       "│ i64    ┆ bool        ┆ i32  ┆ str          ┆ str      ┆ bool         │\n",
       "╞════════╪═════════════╪══════╪══════════════╪══════════╪══════════════╡\n",
       "│ 0      ┆ true        ┆ 100  ┆ faceoff      ┆ N        ┆ true         │\n",
       "│ 47     ┆ true        ┆ 100  ┆ shot-on-goal ┆ O        ┆ true         │\n",
       "│ 74     ┆ true        ┆ 100  ┆ blocked-shot ┆ D        ┆ true         │\n",
       "│ 76     ┆ true        ┆ 100  ┆ missed-shot  ┆ O        ┆ true         │\n",
       "│ 98     ┆ false       ┆ -100 ┆ hit          ┆ D        ┆ true         │\n",
       "│ …      ┆ …           ┆ …    ┆ …            ┆ …        ┆ …            │\n",
       "│ 2      ┆ true        ┆ 100  ┆ shot-on-goal ┆ N        ┆ true         │\n",
       "│ 5      ┆ false       ┆ -100 ┆ giveaway     ┆ N        ┆ true         │\n",
       "│ 20     ┆ true        ┆ 100  ┆ faceoff      ┆ N        ┆ true         │\n",
       "│ 0      ┆ false       ┆ -100 ┆ faceoff      ┆ N        ┆ true         │\n",
       "│ 0      ┆ false       ┆ -100 ┆ faceoff      ┆ N        ┆ true         │\n",
       "└────────┴─────────────┴──────┴──────────────┴──────────┴──────────────┘"
      ]
     },
     "execution_count": 56,
     "metadata": {},
     "output_type": "execute_result"
    }
   ],
   "source": [
    "(\n",
    "    COMBINED_PLAYS\n",
    "    .filter(pl.col('xCoord').is_not_null())\n",
    "    .join(GAMES, left_on=\"gameId\", right_on=\"id\")\n",
    "    .with_columns(\n",
    "        isHomeEvent=pl.col('eventOwnerTeamId') == pl.col('homeTeamId'),\n",
    "        homeTeamNetX=pl.when(pl.col('homeTeamDefendingSide') == pl.lit('left')).then(pl.lit(100)).otherwise(pl.lit(-100)),\n",
    "        awayTeamNetX=pl.when(pl.col('homeTeamDefendingSide') == pl.lit('left')).then(pl.lit(-100)).otherwise(pl.lit(100)),\n",
    "    )\n",
    "    .with_columns(\n",
    "        netX=pl.when(pl.col('isHomeEvent')).then(pl.col('homeTeamNetX')).otherwise(pl.col('awayTeamNetX')),\n",
    "        isHomeEventId=pl.when(pl.col('isHomeEvent')).then(pl.lit(1)).otherwise(pl.lit(-1)),\n",
    "    )\n",
    "    .with_columns(isConsistent=pl.col('isHomeEventId').mul(pl.col('netX')).mul('xCoord') >= 0)\n",
    "    .select([\n",
    "        'xCoord', 'isHomeEvent', 'netX', 'typeDescKey',\n",
    "        'zoneCode', 'isConsistent',\n",
    "        # 'homeTeamNetX', 'awayTeamNetX', \n",
    "    ])\n",
    "    .filter(pl.col('isConsistent'))\n",
    "    # .filter(pl.col('isConsistent').not_())\n",
    "    # .head(10)\n",
    "    .collect()\n",
    ")"
   ]
  },
  {
   "cell_type": "markdown",
   "metadata": {},
   "source": [
    "# xG Attempt 1: Logistic Regression"
   ]
  },
  {
   "cell_type": "code",
   "execution_count": 14,
   "metadata": {},
   "outputs": [],
   "source": [
    "# setting up some constants\n",
    "SHOT_TYPE_DESC_KEY = ['shot-on-goal', 'blocked-shot', 'missed-shot', 'goal']"
   ]
  },
  {
   "cell_type": "markdown",
   "metadata": {},
   "source": [
    "## Feature engineering\n",
    "\n",
    "- doesn't do too well with too many parameters\n",
    "- first attempt at a basic model\n",
    "\n",
    "Features to use:\n",
    "\n",
    "| feature | description | is parameter |\n",
    "| ------- | ----------- | ------------ |\n",
    "| `typeDescKey` | event desc | y |\n",
    "| `sortOrder` | canonical order of events | n |\n",
    "| `period` | periodId | y |\n",
    "| `periodType` | REG / OT (filter out SO) | n |\n",
    "| `eventOwnerTeamId` | event owner team id | y |\n",
    "| `xCoord` | rink xcoords (N/S) | n |\n",
    "| `yCoord` | rink ycoords (E/W) | n |\n",
    "\n",
    "Features to add:\n",
    "\n",
    "| feature | description | is parameter |\n",
    "| ------- | ----------- | ------------ |\n",
    "| `deltaTime` | time since last event (any) | n |\n",
    "| `deltaTimeShot` | time since last shot | n |\n",
    "| `deltaDist` | distance since last event (any) | n |\n",
    "| `deltaDistNet` | distance from owner team's net | n |\n",
    "| `shotAngle` | angle of shot from center North/South line | n |\n",
    "| `deltaAngle` | change in angle since last shot | n |\n",
    "| `rebound` | 0 / 1 | n |\n",
    "| `rush` | 0 / 1 | n |\n",
    "| `goal` | 0 / 1 | n |\n",
    "| `shot` | 0 / 1 | n |\n",
    "| `block` | 0 / 1 | n |\n",
    "| `miss` | 0 / 1 | n |\n",
    "| `isHome` | True / False | n |\n",
    "| `sumHomeGoal` | cumsum | n |\n",
    "| `sumHomeShot` | cumsum | n |\n",
    "| `sumHomeBlock` | cumsum | n |\n",
    "| `sumHomeMiss` | cumsum | n |\n",
    "| `homeCf` |  shots + blocks + misses | y |\n",
    "| `sumAwayGoal` | cumsum | n |\n",
    "| `sumAwayShot` | cumsum | n |\n",
    "| `sumAwayBlock` | cumsum | n |\n",
    "| `sumAwayMiss` | cumsum | n |\n",
    "| `awayCf` |  shots + blocks + misses | y |\n",
    "| `gDiff` | homeGoal - awayGoal | n |\n",
    "| `homeSkt` | home num of skaters | n |\n",
    "| `homeGoalie` | if home goalie in net, then `1`, else `0` | n |\n",
    "| `homeEn` | invert `homeGoalie` | y |\n",
    "| `awaySkt` | away num of skaters | n |\n",
    "| `awayGoalie` | if away goalie in net, then `1`, else `0` | n |\n",
    "| `awayEn` | invert `awayGoalie` | y |\n",
    "| `otLength` | if gametype is 2, then `5 * 60`, else `20 * 60` | n |\n",
    "| `timeInPeriodSec` | computed time from start of period | y |\n",
    "| `timeSinceStartSec` | computed time from start of game | n |"
   ]
  },
  {
   "cell_type": "code",
   "execution_count": null,
   "metadata": {},
   "outputs": [],
   "source": []
  },
  {
   "cell_type": "code",
   "execution_count": null,
   "metadata": {},
   "outputs": [],
   "source": []
  },
  {
   "cell_type": "code",
   "execution_count": null,
   "metadata": {},
   "outputs": [],
   "source": [
    "RELEVANT_FIELDS = [ 'id', 'eventid', 'typedesckey']\n",
    "plays = PLAYS.with_columns(\n",
    "    goal=pl.when(pl.col('typedesckey') == 'goal').then(1).otherwise(0),\n",
    "    shot=pl.when(pl.col('typedesckey').is_in(SHOT_TYPE_DESC_KEY)).then(1).otherwise(0),\n",
    "    situationcode=pl.col('situationcode').cast(str),\n",
    "    timeinperiod_s=(pl.col(\"timeinperiod\").dt.hour().cast(pl.Int64) * 60) + pl.col(\"timeinperiod\").dt.minute().cast(pl.Int64),\n",
    "    timeremaining_s=(pl.col(\"timeremaining\").dt.hour() * 60).cast(pl.Int64) + pl.col(\"timeremaining\").dt.minute().cast(pl.Int64)\n",
    ").with_columns(\n",
    "    timefromstart_s=pl.col('timeinperiod_s').add(\n",
    "        pl.col('period').sub(1).mul(\n",
    "            pl.when(pl.col('period') <= 3).then(1200).otherwise(600)\n",
    "        )\n",
    "    )\n",
    ").join(games, on=['gameid'])\n",
    "plays.filter(pl.col('gameid') == 2024020900).tail(10)"
   ]
  },
  {
   "cell_type": "code",
   "execution_count": null,
   "metadata": {},
   "outputs": [],
   "source": [
    "cplays = plays.join(PLAY_DETAILS, on=['eventid', 'gameid']).lazy()"
   ]
  },
  {
   "cell_type": "code",
   "execution_count": null,
   "metadata": {},
   "outputs": [],
   "source": [
    "shifts = SHIFTS.with_columns(\n",
    "    start_s=(pl.col(\"starttime\").dt.hour().cast(pl.Int64) * 60) + pl.col(\"starttime\").dt.minute().cast(pl.Int64),\n",
    "    end_s=(pl.col(\"endtime\").dt.hour().cast(pl.Int64) * 60) + pl.col(\"endtime\").dt.minute().cast(pl.Int64)\n",
    ").with_columns(\n",
    "    timefromstart_s=pl.col('start_s').add(\n",
    "        pl.col('period').sub(1).mul(\n",
    "            pl.when(pl.col('period') <= 3).then(1200).otherwise(600)\n",
    "        )\n",
    "    )\n",
    ")\n",
    "shifts.head()"
   ]
  },
  {
   "cell_type": "markdown",
   "metadata": {},
   "source": [
    "## Feature extraction\n",
    "\n",
    "We will attempt to make our own version of MoneyPuck's xG model.\n",
    "\n",
    "**Parameters**:\n",
    "\n",
    "1. `deltadnet` Shot Distance From Net\n",
    "2. `deltat` Time Since Last Game Event\n",
    "3. `shottype` Shot Type (Slap, Wrist, Backhand, etc)\n",
    "4. `speed` = `deltad / deltat` Speed From Previous Event\n",
    "5. `angle` Shot Angle\n",
    "6. `lastxcoord` East-West Location on Ice of Last Event Before the Shot\n",
    "7. `rebound_deltaomega` = `deltaangle / deltat` If Rebound, difference in shot angle divided by time since last shot\n",
    "    - `rebound`\n",
    "8. `lastevent` Last Event That Happened Before the Shot (Faceoff, Hit, etc)\n",
    "9. `oppskt` Other team's # of skaters on ice\n",
    "    - `oppmoi` Other team's # of skaters on ice\n",
    "10. `xcoord` East-West Location on Ice of Shot\n",
    "11. `ppteam` Team with Man Advantage Situation ('home'/'away'/null)\n",
    "12. `timepp` Time since current Powerplay started\n",
    "13. `deltad` Distance From Previous Event\n",
    "14. `ycoord` North-South Location on Ice of Shot\n",
    "15. `enteam` Team with Empty Net Situation ('home'/'away'/null)\n",
    "\n",
    "And we have the columns `shot` and `goal` as outcome indicators."
   ]
  },
  {
   "cell_type": "code",
   "execution_count": null,
   "metadata": {},
   "outputs": [],
   "source": [
    "features = cplays.with_columns(\n",
    "    homescore=pl.col('homescore').replace(None, 0).cum_max().over('gameid'),\n",
    "    awayscore=pl.col('awayscore').replace(None, 0).cum_max().over('gameid'),\n",
    "    homesog=pl.col('homesog').replace(None, 0).cum_max().over('gameid'),\n",
    "    awaysog=pl.col('awaysog').replace(None, 0).cum_max().over('gameid'),\n",
    ").sort('sortorder').sort('gameid')\n",
    "# features.select(['gameid', 'sortorder', 'eventid']).head(100)"
   ]
  },
  {
   "cell_type": "code",
   "execution_count": null,
   "metadata": {},
   "outputs": [],
   "source": [
    "# EVEN_STRENGTH = [\"1551\", \"1441\", \"1331\", \"0440\", \"0660\"]\n",
    "SHOOTOUT_CODES = [\"0101\", \"1010\"]\n",
    "\n",
    "pl.Config().set_tbl_rows(30)\n",
    "cfeatures = features.with_columns(\n",
    "    lasttime_s=pl.col('timefromstart_s').shift(1).over(['gameid', 'period']).fill_null(0),\n",
    "    deltax_fromnet=pl.when(pl.col('xcoord') < 0).then(100 + pl.col('xcoord')).otherwise(100 - pl.col('xcoord')),\n",
    "    lastxcoord=pl.col('xcoord').shift(1).over(['gameid', 'period']).fill_null(0),\n",
    "    lastycoord=pl.col('ycoord').shift(1).over(['gameid', 'period']).fill_null(0),\n",
    "    lastteam=pl.col('eventownerteamid').shift(1).over(['gameid', 'period']),\n",
    "    lastevent=pl.col('typedesckey').shift(1).over(['gameid', 'period']),\n",
    "    en=pl.col('situationcode').str.starts_with(0).and_(pl.col('situationcode').is_in(SHOOTOUT_CODES).not_()).and_(pl.col('typedesckey') != 'game-end'),\n",
    "    oppen=pl.col('situationcode').str.ends_with(0).and_(pl.col('situationcode').is_in(SHOOTOUT_CODES).not_()).and_(pl.col('typedesckey') != 'game-end'),\n",
    "    skt=pl.col('situationcode').str.slice(1, 1).str.to_integer(),\n",
    "    oppskt=pl.col('situationcode').str.slice(2, 1).str.to_integer(),\n",
    ").with_columns(\n",
    "    changepossession=pl.col('eventownerteamid') != pl.col('lastteam'),\n",
    "    deltadx2=(pl.col('xcoord').sub(pl.col('lastxcoord'))).pow(2),\n",
    "    deltady2=(pl.col('ycoord').sub(pl.col('lastycoord'))).pow(2),\n",
    "    deltadnet=(pl.col('deltax_fromnet').pow(2).add(pl.col('ycoord').pow(2))).pow(0.5),\n",
    "    deltat=pl.col('timefromstart_s').sub(pl.col('lasttime_s')),\n",
    "    angle=pl.arctan2(pl.col('ycoord').abs(), pl.col('deltax_fromnet').abs()),\n",
    "    # moi = men on ice\n",
    "    moi=pl.col('skt').add(pl.when(pl.col('en')).then(0).otherwise(1)),\n",
    "    oppmoi=pl.col('oppskt').add(pl.when(pl.col('oppen')).then(0).otherwise(1)),\n",
    ").with_columns(\n",
    "    deltad=(pl.col('deltadx2').add(pl.col('deltady2'))).pow(0.5),\n",
    "    pp=pl.col('moi') < pl.col('oppmoi'),\n",
    "    en=pl.col('moi') > pl.col('oppmoi'),\n",
    ").with_columns(\n",
    "    speed=pl.col('deltad').truediv(pl.col('deltat')),\n",
    ").lazy()\n",
    "\n",
    "# TODO: rebound, rebound_deltaomega, timepp\n",
    "cfeatures.select([\n",
    "    # *CPLAYS_KEYS,\n",
    "    'eventid', 'gameid', 'sortorder',\n",
    "    'period', 'xcoord', 'ycoord', 'angle', 'lastxcoord',\n",
    "    # 'deltad', 'deltadnet', 'deltadx2', 'deltady2', 'speed', \n",
    "    'situationcode', 'eventownerteamid', 'typedesckey',\n",
    "    # 'timefromstart_s', 'timeinperiod', 'timeinperiod_s',\n",
    "    # 'en', 'oppen', 'skt', 'oppskt', 'pp',\n",
    "    # 'homescore', 'awayscore', 'hometeamid','awayteamid',\n",
    "    # 'goal', \n",
    "]).head(10).collect()"
   ]
  },
  {
   "cell_type": "code",
   "execution_count": null,
   "metadata": {},
   "outputs": [],
   "source": [
    "shottypes = PLAY_DETAILS.select(['shottype']).unique().with_columns(\n",
    "    shottypeid=pl.col('shottype').cum_count()\n",
    ").lazy()\n",
    "shottypes.collect()"
   ]
  },
  {
   "cell_type": "markdown",
   "metadata": {},
   "source": [
    "## Exploration"
   ]
  },
  {
   "cell_type": "code",
   "execution_count": null,
   "metadata": {},
   "outputs": [],
   "source": [
    "import matplotlib.pyplot as plt\n",
    "import draw"
   ]
  },
  {
   "cell_type": "code",
   "execution_count": null,
   "metadata": {},
   "outputs": [],
   "source": [
    "team_id_abbrev = TEAMS.select(['teamid', 'abbrev', 'color1']).lazy()"
   ]
  },
  {
   "cell_type": "code",
   "execution_count": null,
   "metadata": {},
   "outputs": [],
   "source": [
    "goal_loc_shot = (cfeatures\n",
    "    .filter(pl.col('goal') == 1)\n",
    "    .join(\n",
    "        team_id_abbrev.with_columns(team=pl.col('abbrev'), color=pl.col('color1')), \n",
    "        left_on=\"eventownerteamid\", right_on=\"teamid\")\n",
    "    .select(['gameid', 'xcoord', 'ycoord', 'shottype', 'goal', 'team', 'color', 'lastxcoord', 'lastycoord', 'lasttime_s', 'timefromstart_s', 'deltad', 'deltadnet', 'deltat', 'changepossession'])\n",
    "    .lazy()\n",
    ")\n",
    "goal_loc_shot.collect()"
   ]
  },
  {
   "cell_type": "code",
   "execution_count": null,
   "metadata": {},
   "outputs": [],
   "source": [
    "def draw_xy_shot(df: pl.DataFrame, title: str, ax = plt, filename: str | None = None):\n",
    "    ax.scatter(df['xcoord'], df['ycoord'], c=df['color'], s=2)\n",
    "    if ax == plt:\n",
    "        ax.xlim(draw.RINK[0])\n",
    "        ax.ylim(draw.RINK[1])\n",
    "        ax.gca().set_aspect('equal')\n",
    "        ax.title(title)\n",
    "    else:\n",
    "        ax.set_xlim(draw.RINK[0])\n",
    "        ax.set_ylim(draw.RINK[1])\n",
    "        ax.set_aspect('equal')\n",
    "        ax.set_title(title)\n",
    "        \n",
    "    if filename:\n",
    "        ax.savefig(f'./diagrams/{filename}')\n",
    "draw_xy_shot(goal_loc_shot.collect(), \"All goals scored (x,y) up to game 930\", plt)"
   ]
  },
  {
   "cell_type": "code",
   "execution_count": null,
   "metadata": {},
   "outputs": [],
   "source": [
    "def draw_teams_goals(df: pl.LazyFrame, label: str):\n",
    "    fig, axes = plt.subplots(8,4);\n",
    "\n",
    "    team_abbrevs = TEAMS['abbrev'].to_list()\n",
    "    fig, axes = plt.subplots(8, 4)\n",
    "    for idx, abbrev in enumerate(team_abbrevs):\n",
    "        r = idx // 4\n",
    "        c = idx % 4\n",
    "        draw_xy_shot(\n",
    "            df.filter(pl.col('team') == abbrev).collect(), \n",
    "            label % abbrev,\n",
    "            axes[r, c],\n",
    "        )\n",
    "    fig.set_figheight(12)\n",
    "    fig.set_figwidth(18)\n",
    "    return fig, axes"
   ]
  },
  {
   "cell_type": "code",
   "execution_count": null,
   "metadata": {},
   "outputs": [],
   "source": [
    "fig, axes = draw_teams_goals(goal_loc_shot, \"Goals scored until game 930 by %s\")"
   ]
  },
  {
   "cell_type": "code",
   "execution_count": null,
   "metadata": {},
   "outputs": [],
   "source": [
    "rush_goals = goal_loc_shot.with_columns(\n",
    "    is_rush=pl.col('xcoord').mul(pl.col('lastxcoord')) < 0\n",
    ").filter(pl.col('is_rush'))\n",
    "fig, axes = draw_teams_goals(rush_goals, \"Rush goals by %s\")"
   ]
  },
  {
   "cell_type": "code",
   "execution_count": null,
   "metadata": {},
   "outputs": [],
   "source": [
    "rush_goals_by_team = rush_goals.collect()['team'].value_counts().join(team_id_abbrev.collect(), left_on='team', right_on='abbrev').select(['team', 'count', 'color1']).sort('count', descending=True)\n",
    "fig, ax = plt.subplots()\n",
    "ax.bar(rush_goals_by_team['team'], rush_goals_by_team['count'], width=0.8, color=rush_goals_by_team['color1'])\n",
    "fig.set_figwidth(18)"
   ]
  },
  {
   "cell_type": "code",
   "execution_count": null,
   "metadata": {},
   "outputs": [],
   "source": [
    "# NETFRONT_THRESHOLD = 20\n",
    "REBOUND_S_THRESHOLD = 4\n",
    "rebound_goals = goal_loc_shot.with_columns(\n",
    "    is_rebound=(\n",
    "        (pl.col('xcoord').mul(pl.col('lastxcoord')) > 0)\n",
    "        .and_(pl.col('changepossession').not_())\n",
    "        .and_(pl.col('deltat') < REBOUND_S_THRESHOLD)\n",
    "    )\n",
    ").filter(pl.col('is_rebound'))\n",
    "fig, axes = draw_teams_goals(rebound_goals, \"rebound goals by %s\")"
   ]
  },
  {
   "cell_type": "code",
   "execution_count": null,
   "metadata": {},
   "outputs": [],
   "source": [
    "rebound_goals_by_team = rebound_goals.collect()['team'].value_counts().join(team_id_abbrev.collect(), left_on='team', right_on='abbrev').select(['team', 'count', 'color1']).sort('count', descending=True)\n",
    "fig, ax = plt.subplots()\n",
    "ax.bar(rebound_goals_by_team['team'], rebound_goals_by_team['count'], width=0.8, color=rebound_goals_by_team['color1'])\n",
    "fig.set_figwidth(18)"
   ]
  },
  {
   "cell_type": "markdown",
   "metadata": {},
   "source": [
    "## Linear Regression Model"
   ]
  },
  {
   "cell_type": "code",
   "execution_count": null,
   "metadata": {},
   "outputs": [],
   "source": [
    "from sklearn.model_selection import train_test_split\n",
    "from sklearn.linear_model import LogisticRegression\n",
    "from sklearn.preprocessing import minmax_scale, StandardScaler\n",
    "\n",
    "X = cfeatures.join(\n",
    "    shottypes, on='shottype', how=\"left\"\n",
    ").select([\n",
    "    'deltadnet',\n",
    "    'deltat',\n",
    "    'shot',\n",
    "    'shottypeid',\n",
    "    'speed',\n",
    "    'angle',\n",
    "    'lastxcoord',\n",
    "    'oppskt',\n",
    "    'pp',\n",
    "    'en',\n",
    "    'deltad',\n",
    "    'xcoord',\n",
    "    'ycoord',\n",
    "]).with_columns(\n",
    "    speed=pl.when(pl.col('speed').is_infinite()).then(pl.lit(0)).otherwise(pl.col('speed')),\n",
    "    pp=pl.col('pp').cast(int),\n",
    "    en=pl.col('en').cast(int),\n",
    ").fill_nan(0).fill_null(0).collect().to_pandas()\n",
    "\n",
    "y = cfeatures.select(['goal']).collect().to_pandas()\n",
    "# X.shape, y.shape\n",
    "y['goal'].value_counts()"
   ]
  },
  {
   "cell_type": "code",
   "execution_count": null,
   "metadata": {},
   "outputs": [],
   "source": [
    "normalized_cols = [\n",
    "    'xcoord',\n",
    "    'ycoord',\n",
    "    'lastxcoord',\n",
    "    'oppskt',\n",
    "    'speed',\n",
    "    'deltadnet',\n",
    "    'deltat',\n",
    "]\n",
    "X[normalized_cols] = minmax_scale(X[normalized_cols])\n",
    "X.head()"
   ]
  },
  {
   "cell_type": "code",
   "execution_count": null,
   "metadata": {},
   "outputs": [],
   "source": [
    "# intercept for regression model\n",
    "X_train, X_test, y_train, y_test = train_test_split(X, y, test_size=0.2)"
   ]
  },
  {
   "cell_type": "code",
   "execution_count": null,
   "metadata": {},
   "outputs": [],
   "source": [
    "feature_names = X_train.columns\n",
    "num_ft = len(feature_names)"
   ]
  },
  {
   "cell_type": "code",
   "execution_count": null,
   "metadata": {},
   "outputs": [],
   "source": [
    "import numpy as np\n",
    "np.set_printoptions(suppress=True)\n",
    "scaler = StandardScaler()\n",
    "X_scaled  = scaler.fit_transform(X_train)\n",
    "X_scaled[:5], # X_train[:5], feature_names"
   ]
  },
  {
   "cell_type": "code",
   "execution_count": null,
   "metadata": {},
   "outputs": [],
   "source": [
    "clf1 = LogisticRegression(max_iter=100000)\n",
    "model = clf1.fit(X_train, y_train['goal'])\n",
    "# model = clf1.fit(scaler.fit_transform(X_test), y_train['goal'])"
   ]
  },
  {
   "cell_type": "code",
   "execution_count": null,
   "metadata": {},
   "outputs": [],
   "source": [
    "y_est = model.predict(X_test)\n",
    "# y_est = model.predict(scaler.fit_transform(X_test))"
   ]
  },
  {
   "cell_type": "code",
   "execution_count": null,
   "metadata": {},
   "outputs": [],
   "source": [
    "results_X_test = pl.DataFrame(X_test)\n",
    "results_y_est = pl.DataFrame(y_est).select(goal_pred=pl.col('column_0'))\n",
    "results_y_test = pl.DataFrame(y_test)\n",
    "# pl.concat([results_X_test, results_y_est, results_y_test], how=\"horizontal\")\n",
    "results_y_est['goal_pred'].value_counts()"
   ]
  }
 ],
 "metadata": {
  "kernelspec": {
   "display_name": ".venv",
   "language": "python",
   "name": "python3"
  },
  "language_info": {
   "codemirror_mode": {
    "name": "ipython",
    "version": 3
   },
   "file_extension": ".py",
   "mimetype": "text/x-python",
   "name": "python",
   "nbconvert_exporter": "python",
   "pygments_lexer": "ipython3",
   "version": "3.12.3"
  }
 },
 "nbformat": 4,
 "nbformat_minor": 2
}
